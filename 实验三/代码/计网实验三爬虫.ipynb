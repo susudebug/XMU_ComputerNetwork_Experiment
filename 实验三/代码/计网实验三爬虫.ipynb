{
 "cells": [
  {
   "cell_type": "markdown",
   "metadata": {},
   "source": [
    "# Selenium爬取"
   ]
  },
  {
   "cell_type": "code",
   "execution_count": 10,
   "metadata": {},
   "outputs": [],
   "source": [
    "from selenium import webdriver\n",
    "from selenium.webdriver.chrome.options import Options\n",
    "import requests\n",
    "import os\n",
    "import re\n",
    "from selenium.webdriver.common.keys import Keys\n",
    "from selenium.webdriver.common.by import By\n",
    "from selenium.webdriver.support.ui import WebDriverWait\n",
    "from selenium.webdriver.support import expected_conditions as EC\n",
    "from selenium.webdriver.common.action_chains import ActionChains\n",
    "import json\n",
    "import random\n",
    "import time\n",
    "import win32con\n",
    "import win32api\n",
    "import win32gui"
   ]
  },
  {
   "cell_type": "markdown",
   "metadata": {},
   "source": [
    "selenium爬取mhtml"
   ]
  },
  {
   "cell_type": "code",
   "execution_count": 11,
   "metadata": {},
   "outputs": [
    {
     "ename": "SessionNotCreatedException",
     "evalue": "Message: session not created: This version of ChromeDriver only supports Chrome version 117\nCurrent browser version is 119.0.6045.124 with binary path C:\\Program Files\\Google\\Chrome\\Application\\chrome.exe\n",
     "output_type": "error",
     "traceback": [
      "\u001b[1;31m---------------------------------------------------------------------------\u001b[0m",
      "\u001b[1;31mSessionNotCreatedException\u001b[0m                Traceback (most recent call last)",
      "\u001b[1;32me:\\XMU\\大三上\\计网\\实验\\实验三\\计网实验三爬虫.ipynb 单元格 4\u001b[0m line \u001b[0;36m1\n\u001b[0;32m     <a href='vscode-notebook-cell:/e%3A/XMU/%E5%A4%A7%E4%B8%89%E4%B8%8A/%E8%AE%A1%E7%BD%91/%E5%AE%9E%E9%AA%8C/%E5%AE%9E%E9%AA%8C%E4%B8%89/%E8%AE%A1%E7%BD%91%E5%AE%9E%E9%AA%8C%E4%B8%89%E7%88%AC%E8%99%AB.ipynb#W3sZmlsZQ%3D%3D?line=10'>11</a>\u001b[0m chrome_options\u001b[39m.\u001b[39madd_argument(\u001b[39m'\u001b[39m\u001b[39m--save-page-as-mhtml\u001b[39m\u001b[39m'\u001b[39m)  \u001b[39m# 启用保存为MHTML的选项\u001b[39;00m\n\u001b[0;32m     <a href='vscode-notebook-cell:/e%3A/XMU/%E5%A4%A7%E4%B8%89%E4%B8%8A/%E8%AE%A1%E7%BD%91/%E5%AE%9E%E9%AA%8C/%E5%AE%9E%E9%AA%8C%E4%B8%89/%E8%AE%A1%E7%BD%91%E5%AE%9E%E9%AA%8C%E4%B8%89%E7%88%AC%E8%99%AB.ipynb#W3sZmlsZQ%3D%3D?line=12'>13</a>\u001b[0m \u001b[39m# 添加options对象，剩下和普通selenium基本一致了\u001b[39;00m\n\u001b[1;32m---> <a href='vscode-notebook-cell:/e%3A/XMU/%E5%A4%A7%E4%B8%89%E4%B8%8A/%E8%AE%A1%E7%BD%91/%E5%AE%9E%E9%AA%8C/%E5%AE%9E%E9%AA%8C%E4%B8%89/%E8%AE%A1%E7%BD%91%E5%AE%9E%E9%AA%8C%E4%B8%89%E7%88%AC%E8%99%AB.ipynb#W3sZmlsZQ%3D%3D?line=13'>14</a>\u001b[0m driver \u001b[39m=\u001b[39m webdriver\u001b[39m.\u001b[39;49mChrome(executable_path\u001b[39m=\u001b[39;49m\u001b[39m\"\u001b[39;49m\u001b[39mC:\u001b[39;49m\u001b[39m\\\\\u001b[39;49;00m\u001b[39mProgram Files\u001b[39;49m\u001b[39m\\\\\u001b[39;49;00m\u001b[39mGoogle\u001b[39;49m\u001b[39m\\\\\u001b[39;49;00m\u001b[39mChrome\u001b[39;49m\u001b[39m\\\\\u001b[39;49;00m\u001b[39mApplication\u001b[39;49m\u001b[39m\\\\\u001b[39;49;00m\u001b[39mchromedriver.exe\u001b[39;49m\u001b[39m\"\u001b[39;49m,options\u001b[39m=\u001b[39;49mchrome_options)\n\u001b[0;32m     <a href='vscode-notebook-cell:/e%3A/XMU/%E5%A4%A7%E4%B8%89%E4%B8%8A/%E8%AE%A1%E7%BD%91/%E5%AE%9E%E9%AA%8C/%E5%AE%9E%E9%AA%8C%E4%B8%89/%E8%AE%A1%E7%BD%91%E5%AE%9E%E9%AA%8C%E4%B8%89%E7%88%AC%E8%99%AB.ipynb#W3sZmlsZQ%3D%3D?line=14'>15</a>\u001b[0m start_url\u001b[39m=\u001b[39m\u001b[39m\"\u001b[39m\u001b[39mhttp://www.people.com.cn/\u001b[39m\u001b[39m\"\u001b[39m\n\u001b[0;32m     <a href='vscode-notebook-cell:/e%3A/XMU/%E5%A4%A7%E4%B8%89%E4%B8%8A/%E8%AE%A1%E7%BD%91/%E5%AE%9E%E9%AA%8C/%E5%AE%9E%E9%AA%8C%E4%B8%89/%E8%AE%A1%E7%BD%91%E5%AE%9E%E9%AA%8C%E4%B8%89%E7%88%AC%E8%99%AB.ipynb#W3sZmlsZQ%3D%3D?line=15'>16</a>\u001b[0m \u001b[39mprint\u001b[39m(start_url)\n",
      "File \u001b[1;32me:\\Anaconda3\\lib\\site-packages\\selenium\\webdriver\\chrome\\webdriver.py:76\u001b[0m, in \u001b[0;36mWebDriver.__init__\u001b[1;34m(self, executable_path, port, options, service_args, desired_capabilities, service_log_path, chrome_options, keep_alive)\u001b[0m\n\u001b[0;32m     73\u001b[0m \u001b[39mself\u001b[39m\u001b[39m.\u001b[39mservice\u001b[39m.\u001b[39mstart()\n\u001b[0;32m     75\u001b[0m \u001b[39mtry\u001b[39;00m:\n\u001b[1;32m---> 76\u001b[0m     RemoteWebDriver\u001b[39m.\u001b[39;49m\u001b[39m__init__\u001b[39;49m(\n\u001b[0;32m     77\u001b[0m         \u001b[39mself\u001b[39;49m,\n\u001b[0;32m     78\u001b[0m         command_executor\u001b[39m=\u001b[39;49mChromeRemoteConnection(\n\u001b[0;32m     79\u001b[0m             remote_server_addr\u001b[39m=\u001b[39;49m\u001b[39mself\u001b[39;49m\u001b[39m.\u001b[39;49mservice\u001b[39m.\u001b[39;49mservice_url,\n\u001b[0;32m     80\u001b[0m             keep_alive\u001b[39m=\u001b[39;49mkeep_alive),\n\u001b[0;32m     81\u001b[0m         desired_capabilities\u001b[39m=\u001b[39;49mdesired_capabilities)\n\u001b[0;32m     82\u001b[0m \u001b[39mexcept\u001b[39;00m \u001b[39mException\u001b[39;00m:\n\u001b[0;32m     83\u001b[0m     \u001b[39mself\u001b[39m\u001b[39m.\u001b[39mquit()\n",
      "File \u001b[1;32me:\\Anaconda3\\lib\\site-packages\\selenium\\webdriver\\remote\\webdriver.py:157\u001b[0m, in \u001b[0;36mWebDriver.__init__\u001b[1;34m(self, command_executor, desired_capabilities, browser_profile, proxy, keep_alive, file_detector, options)\u001b[0m\n\u001b[0;32m    154\u001b[0m \u001b[39mif\u001b[39;00m browser_profile \u001b[39mis\u001b[39;00m \u001b[39mnot\u001b[39;00m \u001b[39mNone\u001b[39;00m:\n\u001b[0;32m    155\u001b[0m     warnings\u001b[39m.\u001b[39mwarn(\u001b[39m\"\u001b[39m\u001b[39mPlease use FirefoxOptions to set browser profile\u001b[39m\u001b[39m\"\u001b[39m,\n\u001b[0;32m    156\u001b[0m                   \u001b[39mDeprecationWarning\u001b[39;00m, stacklevel\u001b[39m=\u001b[39m\u001b[39m2\u001b[39m)\n\u001b[1;32m--> 157\u001b[0m \u001b[39mself\u001b[39;49m\u001b[39m.\u001b[39;49mstart_session(capabilities, browser_profile)\n\u001b[0;32m    158\u001b[0m \u001b[39mself\u001b[39m\u001b[39m.\u001b[39m_switch_to \u001b[39m=\u001b[39m SwitchTo(\u001b[39mself\u001b[39m)\n\u001b[0;32m    159\u001b[0m \u001b[39mself\u001b[39m\u001b[39m.\u001b[39m_mobile \u001b[39m=\u001b[39m Mobile(\u001b[39mself\u001b[39m)\n",
      "File \u001b[1;32me:\\Anaconda3\\lib\\site-packages\\selenium\\webdriver\\remote\\webdriver.py:252\u001b[0m, in \u001b[0;36mWebDriver.start_session\u001b[1;34m(self, capabilities, browser_profile)\u001b[0m\n\u001b[0;32m    249\u001b[0m w3c_caps \u001b[39m=\u001b[39m _make_w3c_caps(capabilities)\n\u001b[0;32m    250\u001b[0m parameters \u001b[39m=\u001b[39m {\u001b[39m\"\u001b[39m\u001b[39mcapabilities\u001b[39m\u001b[39m\"\u001b[39m: w3c_caps,\n\u001b[0;32m    251\u001b[0m               \u001b[39m\"\u001b[39m\u001b[39mdesiredCapabilities\u001b[39m\u001b[39m\"\u001b[39m: capabilities}\n\u001b[1;32m--> 252\u001b[0m response \u001b[39m=\u001b[39m \u001b[39mself\u001b[39;49m\u001b[39m.\u001b[39;49mexecute(Command\u001b[39m.\u001b[39;49mNEW_SESSION, parameters)\n\u001b[0;32m    253\u001b[0m \u001b[39mif\u001b[39;00m \u001b[39m'\u001b[39m\u001b[39msessionId\u001b[39m\u001b[39m'\u001b[39m \u001b[39mnot\u001b[39;00m \u001b[39min\u001b[39;00m response:\n\u001b[0;32m    254\u001b[0m     response \u001b[39m=\u001b[39m response[\u001b[39m'\u001b[39m\u001b[39mvalue\u001b[39m\u001b[39m'\u001b[39m]\n",
      "File \u001b[1;32me:\\Anaconda3\\lib\\site-packages\\selenium\\webdriver\\remote\\webdriver.py:321\u001b[0m, in \u001b[0;36mWebDriver.execute\u001b[1;34m(self, driver_command, params)\u001b[0m\n\u001b[0;32m    319\u001b[0m response \u001b[39m=\u001b[39m \u001b[39mself\u001b[39m\u001b[39m.\u001b[39mcommand_executor\u001b[39m.\u001b[39mexecute(driver_command, params)\n\u001b[0;32m    320\u001b[0m \u001b[39mif\u001b[39;00m response:\n\u001b[1;32m--> 321\u001b[0m     \u001b[39mself\u001b[39;49m\u001b[39m.\u001b[39;49merror_handler\u001b[39m.\u001b[39;49mcheck_response(response)\n\u001b[0;32m    322\u001b[0m     response[\u001b[39m'\u001b[39m\u001b[39mvalue\u001b[39m\u001b[39m'\u001b[39m] \u001b[39m=\u001b[39m \u001b[39mself\u001b[39m\u001b[39m.\u001b[39m_unwrap_value(\n\u001b[0;32m    323\u001b[0m         response\u001b[39m.\u001b[39mget(\u001b[39m'\u001b[39m\u001b[39mvalue\u001b[39m\u001b[39m'\u001b[39m, \u001b[39mNone\u001b[39;00m))\n\u001b[0;32m    324\u001b[0m     \u001b[39mreturn\u001b[39;00m response\n",
      "File \u001b[1;32me:\\Anaconda3\\lib\\site-packages\\selenium\\webdriver\\remote\\errorhandler.py:242\u001b[0m, in \u001b[0;36mErrorHandler.check_response\u001b[1;34m(self, response)\u001b[0m\n\u001b[0;32m    240\u001b[0m         alert_text \u001b[39m=\u001b[39m value[\u001b[39m'\u001b[39m\u001b[39malert\u001b[39m\u001b[39m'\u001b[39m]\u001b[39m.\u001b[39mget(\u001b[39m'\u001b[39m\u001b[39mtext\u001b[39m\u001b[39m'\u001b[39m)\n\u001b[0;32m    241\u001b[0m     \u001b[39mraise\u001b[39;00m exception_class(message, screen, stacktrace, alert_text)\n\u001b[1;32m--> 242\u001b[0m \u001b[39mraise\u001b[39;00m exception_class(message, screen, stacktrace)\n",
      "\u001b[1;31mSessionNotCreatedException\u001b[0m: Message: session not created: This version of ChromeDriver only supports Chrome version 117\nCurrent browser version is 119.0.6045.124 with binary path C:\\Program Files\\Google\\Chrome\\Application\\chrome.exe\n"
     ]
    }
   ],
   "source": [
    "# 随机延迟1到3秒\n",
    "delay = random.uniform(1, 3)\n",
    "\n",
    "user_agent = \"Mozilla/5.0 (Macintosh; Intel Mac OS X 10_13_6) AppleWebKit/605.1.15 (KHTML, like Gecko) Version/12.0.3 Safari/605.1.15\"\n",
    "# Options参数指定\n",
    "chrome_options = Options()\n",
    "# chrome_options.add_argument('--headless')\n",
    "chrome_options.add_argument('window-size=1920x1080')\n",
    "# chrome_options.add_argument('disable-gpu')  # 在无头模式下禁用GPU加速\n",
    "chrome_options.add_argument('--user-agent=%s' % user_agent)\n",
    "chrome_options.add_argument('--save-page-as-mhtml')  # 启用保存为MHTML的选项\n",
    "\n",
    "# 添加options对象，剩下和普通selenium基本一致了\n",
    "driver = webdriver.Chrome(executable_path=\"C:\\\\Program Files\\\\Google\\\\Chrome\\\\Application\\\\chromedriver.exe\",options=chrome_options)\n",
    "start_url=\"http://www.people.com.cn/\"\n",
    "print(start_url)\n",
    "driver.get(start_url)\n"
   ]
  },
  {
   "cell_type": "code",
   "execution_count": null,
   "metadata": {},
   "outputs": [],
   "source": [
    "'''\n",
    "爬取html\n",
    "'''\n",
    "driver.refresh()\n",
    "#res = driver.execute_cdp_cmd('Page.captureSnapshot', {})\n",
    "time.sleep(delay)\n",
    "win32api.keybd_event(17, 0, 0, 0)  # 按下ctrl\n",
    "win32api.keybd_event(83, 0, 0, 0)  # 按下s\n",
    "win32api.keybd_event(83, 0, win32con.KEYEVENTF_KEYUP, 0)  # 释放s\n",
    "win32api.keybd_event(17, 0, win32con.KEYEVENTF_KEYUP, 0)  # 释放ctrl\n",
    "# hd = win32gui.FindWindow(u\"#32770\", u\"另存为\")\n",
    "# win32gui.SetForegroundWindow(hd)\n",
    "time.sleep(delay)\n",
    "win32api.keybd_event(13, 0, 0, 0)  # 按下enter\n",
    "win32api.keybd_event(13, 0, win32con.KEYEVENTF_KEYUP, 0)  # 释放enter\n",
    "time.sleep(delay)"
   ]
  },
  {
   "cell_type": "code",
   "execution_count": null,
   "metadata": {},
   "outputs": [],
   "source": [
    "'''\n",
    "爬取全部图片\n",
    "'''\n",
    "try:\n",
    "    # 定位所有图片元素\n",
    "    wait = WebDriverWait(driver, 10)  # 最大等待时间为10秒\n",
    "    img_elements = wait.until(EC.presence_of_all_elements_located((By.TAG_NAME, 'img')))\n",
    "except Exception as e:\n",
    "            print(\"发生异常:\", e)\n",
    "\n",
    "output_folder=\"E:\\\\XMU\\\\大三上\\\\计网\\\\实验\\\\实验三\\\\爬虫图片库\"\n",
    "# 创建文件夹（如果不存在的话）\n",
    "os.makedirs(output_folder, exist_ok=True)\n",
    "\n",
    "# 遍历所有图片元素，下载并保存图片\n",
    "for index, img_element in enumerate(img_elements):\n",
    "    img_url = img_element.get_attribute('src')\n",
    "    img_name = f'image_{index}.jpg'  # 可以根据需要修改图片保存的文件名规则\n",
    "    img_path = os.path.join(output_folder, img_name)\n",
    "    with open(img_path, 'wb') as img_file:\n",
    "        img_content = requests.get(img_url).content\n",
    "        img_file.write(img_content)\n"
   ]
  },
  {
   "cell_type": "code",
   "execution_count": null,
   "metadata": {},
   "outputs": [],
   "source": [
    "driver.close()"
   ]
  },
  {
   "cell_type": "markdown",
   "metadata": {},
   "source": [
    "# Socket爬取"
   ]
  },
  {
   "cell_type": "code",
   "execution_count": 13,
   "metadata": {},
   "outputs": [
    {
     "ename": "UnicodeDecodeError",
     "evalue": "'utf-8' codec can't decode byte 0xc8 in position 826: invalid continuation byte",
     "output_type": "error",
     "traceback": [
      "\u001b[1;31m---------------------------------------------------------------------------\u001b[0m",
      "\u001b[1;31mUnicodeDecodeError\u001b[0m                        Traceback (most recent call last)",
      "\u001b[1;32me:\\XMU\\大三上\\计网\\实验\\实验三\\计网实验三爬虫.ipynb 单元格 9\u001b[0m line \u001b[0;36m3\n\u001b[0;32m     <a href='vscode-notebook-cell:/e%3A/XMU/%E5%A4%A7%E4%B8%89%E4%B8%8A/%E8%AE%A1%E7%BD%91/%E5%AE%9E%E9%AA%8C/%E5%AE%9E%E9%AA%8C%E4%B8%89/%E8%AE%A1%E7%BD%91%E5%AE%9E%E9%AA%8C%E4%B8%89%E7%88%AC%E8%99%AB.ipynb#X11sZmlsZQ%3D%3D?line=26'>27</a>\u001b[0m client_socket\u001b[39m.\u001b[39mclose()\n\u001b[0;32m     <a href='vscode-notebook-cell:/e%3A/XMU/%E5%A4%A7%E4%B8%89%E4%B8%8A/%E8%AE%A1%E7%BD%91/%E5%AE%9E%E9%AA%8C/%E5%AE%9E%E9%AA%8C%E4%B8%89/%E8%AE%A1%E7%BD%91%E5%AE%9E%E9%AA%8C%E4%B8%89%E7%88%AC%E8%99%AB.ipynb#X11sZmlsZQ%3D%3D?line=28'>29</a>\u001b[0m \u001b[39m# 将响应数据以字符串形式返回，忽略无法解码的部分\u001b[39;00m\n\u001b[1;32m---> <a href='vscode-notebook-cell:/e%3A/XMU/%E5%A4%A7%E4%B8%89%E4%B8%8A/%E8%AE%A1%E7%BD%91/%E5%AE%9E%E9%AA%8C/%E5%AE%9E%E9%AA%8C%E4%B8%89/%E8%AE%A1%E7%BD%91%E5%AE%9E%E9%AA%8C%E4%B8%89%E7%88%AC%E8%99%AB.ipynb#X11sZmlsZQ%3D%3D?line=29'>30</a>\u001b[0m html_content\u001b[39m=\u001b[39mresponse\u001b[39m.\u001b[39;49mdecode(\u001b[39m\"\u001b[39;49m\u001b[39mutf-8\u001b[39;49m\u001b[39m\"\u001b[39;49m)\n\u001b[0;32m     <a href='vscode-notebook-cell:/e%3A/XMU/%E5%A4%A7%E4%B8%89%E4%B8%8A/%E8%AE%A1%E7%BD%91/%E5%AE%9E%E9%AA%8C/%E5%AE%9E%E9%AA%8C%E4%B8%89/%E8%AE%A1%E7%BD%91%E5%AE%9E%E9%AA%8C%E4%B8%89%E7%88%AC%E8%99%AB.ipynb#X11sZmlsZQ%3D%3D?line=31'>32</a>\u001b[0m \u001b[39m# 将网页内容保存到txt文件中\u001b[39;00m\n\u001b[0;32m     <a href='vscode-notebook-cell:/e%3A/XMU/%E5%A4%A7%E4%B8%89%E4%B8%8A/%E8%AE%A1%E7%BD%91/%E5%AE%9E%E9%AA%8C/%E5%AE%9E%E9%AA%8C%E4%B8%89/%E8%AE%A1%E7%BD%91%E5%AE%9E%E9%AA%8C%E4%B8%89%E7%88%AC%E8%99%AB.ipynb#X11sZmlsZQ%3D%3D?line=32'>33</a>\u001b[0m \u001b[39mwith\u001b[39;00m \u001b[39mopen\u001b[39m(\u001b[39m\"\u001b[39m\u001b[39mpeople_com_cn.txt\u001b[39m\u001b[39m\"\u001b[39m, \u001b[39m\"\u001b[39m\u001b[39mw\u001b[39m\u001b[39m\"\u001b[39m, encoding\u001b[39m=\u001b[39m\u001b[39m\"\u001b[39m\u001b[39mutf-8\u001b[39m\u001b[39m\"\u001b[39m) \u001b[39mas\u001b[39;00m file:\n",
      "\u001b[1;31mUnicodeDecodeError\u001b[0m: 'utf-8' codec can't decode byte 0xc8 in position 826: invalid continuation byte"
     ]
    }
   ],
   "source": [
    "import socket\n",
    "import os\n",
    "import re\n",
    "from urllib.parse import urlparse\n",
    "\n",
    "# 定义要连接的目标URL和端口号\n",
    "target_host = \"www.people.com.cn\"\n",
    "target_port = 80\n",
    "\n",
    "# 建立TCP连接\n",
    "client_socket = socket.socket(socket.AF_INET, socket.SOCK_STREAM)\n",
    "client_socket.connect((target_host, target_port))\n",
    "\n",
    "# 发送GET请求\n",
    "request = f\"GET / HTTP/1.1\\r\\nHost: {target_host}\\r\\n\\r\\n\"\n",
    "client_socket.send(request.encode())\n",
    "\n",
    "# 接收服务器响应数据\n",
    "response = b\"\"\n",
    "while True:\n",
    "    data = client_socket.recv(4096)\n",
    "    if not data:\n",
    "        break\n",
    "    response += data\n",
    "\n",
    "# 关闭连接\n",
    "client_socket.close()\n",
    "\n",
    "# 将响应数据以字符串形式返回，忽略无法解码的部分\n",
    "html_content=response.decode(\"utf-8\", errors=\"ignore\")\n",
    "\n",
    "# 将网页内容保存到txt文件中\n",
    "with open(\"people_com_cn.txt\", \"w\", encoding=\"utf-8\") as file:\n",
    "    file.write(html_content)\n",
    "\n",
    "print(\"网页内容已保存到people_com_cn.txt文件中。\")\n",
    "\n"
   ]
  },
  {
   "cell_type": "markdown",
   "metadata": {},
   "source": [
    "Socket爬取问题，utf-8与字符不兼容"
   ]
  },
  {
   "cell_type": "markdown",
   "metadata": {},
   "source": [
    "# BeautifulSoup爬取"
   ]
  },
  {
   "cell_type": "code",
   "execution_count": null,
   "metadata": {},
   "outputs": [],
   "source": [
    "import sys\n",
    "import numpy as np\n",
    "import json\n",
    "import re\n",
    "import requests\n",
    "import pandas as pd\n",
    "import datetime\n",
    "from bs4 import BeautifulSoup\n",
    "import base64\n",
    "import os\n",
    "import random\n",
    "import time\n",
    "\n",
    "user_agents = ['Mozilla/5.0 (Windows NT 6.1; WOW64) AppleWebKit/537.36 (KHTML, like Gecko) Chrome/39.0.2171.95 Safari/537.36',\n",
    "                   'Mozilla/5.0 (Windows NT 6.1; WOW64; rv:34.0) Gecko/20100101 Firefox/34.0',\n",
    "                   'Mozilla/5.0 (Windows NT 6.1; WOW64) AppleWebKit/534.57.2 (KHTML, like Gecko) Version/5.1.7 Safari/534.57.2',\n",
    "                   'Mozilla/5.0 (Windows NT 10.0; Win64; x64) AppleWebKit/537.36 (KHTML, like Gecko) Chrome/91.0.4472.114 Safari/537.36',\n",
    "                   'Mozilla/5.0 (Windows NT 6.1; WOW64) AppleWebKit/537.1 (KHTML, like Gecko) Chrome/21.0.1180.71 Safari/537.1 LBBROWSER',\n",
    "                   'Mozilla/5.0 (Windows NT 5.1) AppleWebKit/535.11 (KHTML, like Gecko) Chrome/17.0.963.84 Safari/535.11 SE 2.X MetaSr 1.0'\n",
    "                   ]\n",
    "cookie={'cookie':'bid=kRRUP5Adrsc; _ga=GA1.3.1583431493.1679359048; _gid=GA1.3.240421151.1679359048; _ga=GA1.1.1583431493.1679359048; page_style=\"mobile\"; dbcl2=\"215291240:+lGgZ069L0g\"; _pk_ses.100001.a7dd=*; ck=AT7V; _ga_RXNMP372GL=GS1.1.1679406549.4.1.1679408190.60.0.0; _pk_id.100001.a7dd=0f38c905a23f4f70.1679359049.4.1679408190.1679402067.; _gat=1'}\n",
    "\n",
    "headers = { \n",
    "        'User-Agent': random.choice(user_agents)\n",
    "    }\n",
    "url='http://www.people.com.cn/' \n",
    "res = requests.get(url,headers=headers,cookies=cookie)\n",
    "sp = BeautifulSoup(res.text,'lxml') "
   ]
  },
  {
   "cell_type": "code",
   "execution_count": null,
   "metadata": {},
   "outputs": [
    {
     "name": "stdout",
     "output_type": "stream",
     "text": [
      "网页内容已保存到people_com_cn.html文件中。\n"
     ]
    }
   ],
   "source": [
    "# 获取网页的HTML内容\n",
    "html_content = sp.prettify()\n",
    "\n",
    "# 将HTML内容保存到txt文件\n",
    "with open(\"people_com_cn.html\", \"w\", encoding=\"utf-8\") as file:\n",
    "    file.write(html_content)\n",
    "\n",
    "print(\"网页内容已保存到people_com_cn.html文件中。\")\n"
   ]
  },
  {
   "cell_type": "markdown",
   "metadata": {},
   "source": [
    "美丽汤爬取html的问题:html乱码"
   ]
  }
 ],
 "metadata": {
  "kernelspec": {
   "display_name": "base",
   "language": "python",
   "name": "python3"
  },
  "language_info": {
   "codemirror_mode": {
    "name": "ipython",
    "version": 3
   },
   "file_extension": ".py",
   "mimetype": "text/x-python",
   "name": "python",
   "nbconvert_exporter": "python",
   "pygments_lexer": "ipython3",
   "version": "3.8.8"
  }
 },
 "nbformat": 4,
 "nbformat_minor": 2
}
